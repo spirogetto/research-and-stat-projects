{
 "cells": [
  {
   "cell_type": "markdown",
   "id": "c5b074ae-3bde-4679-9ebc-79ad5b4c8be9",
   "metadata": {},
   "source": [
    "<h1> Understanding the relationship between emotional regulation and nictone dependency </h1>"
   ]
  },
  {
   "cell_type": "markdown",
   "id": "98a8cd08-06d3-41d8-bbba-ca72d078dacd",
   "metadata": {},
   "source": [
    "<h2>Statistical Tests </h2>\n",
    "1. Is there any differences between male and female regarding nicotine dependency? </br>\n",
    "2. Difference in nicotine dependency regarding occupation (School : 1, University : 2, Job : 3) </br>3. Can Emotional Regulation Predict Nicotine Dependency?"
   ]
  },
  {
   "cell_type": "code",
   "execution_count": 18,
   "id": "cfbbb19d-7814-4982-8e9d-fd21c34dcb0c",
   "metadata": {
    "tags": []
   },
   "outputs": [],
   "source": [
    "#Importing neccessary libraries\n",
    "import graphviz\n",
    "import pandas as pd\n",
    "import numpy as np\n",
    "import matplotlib.pyplot as plt\n",
    "import seaborn as sns\n",
    "import sklearn\n",
    "from sklearn.ensemble import RandomForestRegressor as reg\n",
    "import scipy\n",
    "import scikit_posthocs as sp\n",
    "\n",
    "#opening the data from google spreadsheet\n",
    "\n",
    "df = pd.read_csv('ERQ_ND.csv')"
   ]
  },
  {
   "cell_type": "markdown",
   "id": "f4d54aad-8e22-44b6-be72-96cd82afe4ee",
   "metadata": {
    "tags": []
   },
   "source": [
    "<h2>Checking the variables </h2>\n",
    "    Here we intend to check the variables name\n",
    "    "
   ]
  },
  {
   "cell_type": "code",
   "execution_count": 3,
   "id": "f302b0ce-4aea-4def-925f-1dbb6a444e9c",
   "metadata": {
    "tags": []
   },
   "outputs": [
    {
     "data": {
      "text/html": [
       "<div>\n",
       "<style scoped>\n",
       "    .dataframe tbody tr th:only-of-type {\n",
       "        vertical-align: middle;\n",
       "    }\n",
       "\n",
       "    .dataframe tbody tr th {\n",
       "        vertical-align: top;\n",
       "    }\n",
       "\n",
       "    .dataframe thead th {\n",
       "        text-align: right;\n",
       "    }\n",
       "</style>\n",
       "<table border=\"1\" class=\"dataframe\">\n",
       "  <thead>\n",
       "    <tr style=\"text-align: right;\">\n",
       "      <th></th>\n",
       "      <th>Gender</th>\n",
       "      <th>Occu</th>\n",
       "      <th>CogRep_1</th>\n",
       "      <th>ExpressSupr_2</th>\n",
       "      <th>CogRep_3</th>\n",
       "      <th>ExpressSupr_4</th>\n",
       "      <th>CogRep_5</th>\n",
       "      <th>ExpressSupr_6</th>\n",
       "      <th>CogRep_7</th>\n",
       "      <th>CogRep_8</th>\n",
       "      <th>ExpressSupr_9</th>\n",
       "      <th>CogRep_10</th>\n",
       "      <th>EmoRegu</th>\n",
       "      <th>ND_1</th>\n",
       "      <th>ND_2</th>\n",
       "      <th>ND_3</th>\n",
       "      <th>ND_4</th>\n",
       "      <th>ND_5</th>\n",
       "      <th>ND_6</th>\n",
       "      <th>NicotineDepnd</th>\n",
       "    </tr>\n",
       "  </thead>\n",
       "  <tbody>\n",
       "    <tr>\n",
       "      <th>0</th>\n",
       "      <td>1</td>\n",
       "      <td>1</td>\n",
       "      <td>5</td>\n",
       "      <td>4</td>\n",
       "      <td>5</td>\n",
       "      <td>4</td>\n",
       "      <td>4</td>\n",
       "      <td>4</td>\n",
       "      <td>4</td>\n",
       "      <td>4</td>\n",
       "      <td>4</td>\n",
       "      <td>4</td>\n",
       "      <td>42</td>\n",
       "      <td>0</td>\n",
       "      <td>0</td>\n",
       "      <td>0</td>\n",
       "      <td>0</td>\n",
       "      <td>1</td>\n",
       "      <td>0</td>\n",
       "      <td>1</td>\n",
       "    </tr>\n",
       "    <tr>\n",
       "      <th>1</th>\n",
       "      <td>0</td>\n",
       "      <td>1</td>\n",
       "      <td>5</td>\n",
       "      <td>4</td>\n",
       "      <td>3</td>\n",
       "      <td>2</td>\n",
       "      <td>2</td>\n",
       "      <td>2</td>\n",
       "      <td>2</td>\n",
       "      <td>2</td>\n",
       "      <td>2</td>\n",
       "      <td>2</td>\n",
       "      <td>26</td>\n",
       "      <td>0</td>\n",
       "      <td>0</td>\n",
       "      <td>0</td>\n",
       "      <td>0</td>\n",
       "      <td>1</td>\n",
       "      <td>0</td>\n",
       "      <td>1</td>\n",
       "    </tr>\n",
       "    <tr>\n",
       "      <th>2</th>\n",
       "      <td>0</td>\n",
       "      <td>1</td>\n",
       "      <td>5</td>\n",
       "      <td>5</td>\n",
       "      <td>5</td>\n",
       "      <td>4</td>\n",
       "      <td>4</td>\n",
       "      <td>3</td>\n",
       "      <td>2</td>\n",
       "      <td>2</td>\n",
       "      <td>2</td>\n",
       "      <td>2</td>\n",
       "      <td>34</td>\n",
       "      <td>0</td>\n",
       "      <td>0</td>\n",
       "      <td>0</td>\n",
       "      <td>0</td>\n",
       "      <td>1</td>\n",
       "      <td>0</td>\n",
       "      <td>1</td>\n",
       "    </tr>\n",
       "    <tr>\n",
       "      <th>3</th>\n",
       "      <td>0</td>\n",
       "      <td>1</td>\n",
       "      <td>5</td>\n",
       "      <td>6</td>\n",
       "      <td>7</td>\n",
       "      <td>7</td>\n",
       "      <td>8</td>\n",
       "      <td>9</td>\n",
       "      <td>9</td>\n",
       "      <td>9</td>\n",
       "      <td>10</td>\n",
       "      <td>11</td>\n",
       "      <td>81</td>\n",
       "      <td>0</td>\n",
       "      <td>0</td>\n",
       "      <td>0</td>\n",
       "      <td>0</td>\n",
       "      <td>1</td>\n",
       "      <td>0</td>\n",
       "      <td>1</td>\n",
       "    </tr>\n",
       "    <tr>\n",
       "      <th>4</th>\n",
       "      <td>0</td>\n",
       "      <td>1</td>\n",
       "      <td>5</td>\n",
       "      <td>4</td>\n",
       "      <td>3</td>\n",
       "      <td>4</td>\n",
       "      <td>5</td>\n",
       "      <td>6</td>\n",
       "      <td>6</td>\n",
       "      <td>5</td>\n",
       "      <td>4</td>\n",
       "      <td>5</td>\n",
       "      <td>47</td>\n",
       "      <td>0</td>\n",
       "      <td>0</td>\n",
       "      <td>0</td>\n",
       "      <td>0</td>\n",
       "      <td>1</td>\n",
       "      <td>0</td>\n",
       "      <td>1</td>\n",
       "    </tr>\n",
       "  </tbody>\n",
       "</table>\n",
       "</div>"
      ],
      "text/plain": [
       "   Gender  Occu  CogRep_1  ExpressSupr_2  CogRep_3  ExpressSupr_4  CogRep_5  \\\n",
       "0       1     1         5              4         5              4         4   \n",
       "1       0     1         5              4         3              2         2   \n",
       "2       0     1         5              5         5              4         4   \n",
       "3       0     1         5              6         7              7         8   \n",
       "4       0     1         5              4         3              4         5   \n",
       "\n",
       "   ExpressSupr_6  CogRep_7  CogRep_8  ExpressSupr_9  CogRep_10  EmoRegu  ND_1  \\\n",
       "0              4         4         4              4          4       42     0   \n",
       "1              2         2         2              2          2       26     0   \n",
       "2              3         2         2              2          2       34     0   \n",
       "3              9         9         9             10         11       81     0   \n",
       "4              6         6         5              4          5       47     0   \n",
       "\n",
       "   ND_2  ND_3  ND_4  ND_5  ND_6  NicotineDepnd  \n",
       "0     0     0     0     1     0              1  \n",
       "1     0     0     0     1     0              1  \n",
       "2     0     0     0     1     0              1  \n",
       "3     0     0     0     1     0              1  \n",
       "4     0     0     0     1     0              1  "
      ]
     },
     "execution_count": 3,
     "metadata": {},
     "output_type": "execute_result"
    }
   ],
   "source": [
    "df.head()"
   ]
  },
  {
   "cell_type": "markdown",
   "id": "4e7e3014-fe4e-4513-8ec0-83170c0e6b59",
   "metadata": {
    "tags": []
   },
   "source": [
    "<h2>\n",
    "Comparison of mean Nicotine Dependency between male and female </h2>\n",
    "1. At first we will check normality for each individual groups. <br>\n",
    "2. Then We will check leven's F test to inquire if both of the distribution has the equal variance."
   ]
  },
  {
   "cell_type": "code",
   "execution_count": 4,
   "id": "fae93d04-fd6f-4245-b155-7239cef81fd3",
   "metadata": {
    "tags": []
   },
   "outputs": [],
   "source": [
    "g =df.groupby('Gender')['NicotineDepnd']\n",
    "g.mean()\n",
    "male_n, female_n = g.describe()['count']"
   ]
  },
  {
   "cell_type": "markdown",
   "id": "75273576-3de4-49a0-8e42-7c4b6b0c30ba",
   "metadata": {
    "tags": []
   },
   "source": [
    "<h3> Normality Check by k-s test </h3>"
   ]
  },
  {
   "cell_type": "code",
   "execution_count": 5,
   "id": "9673a9c7-64be-4bdb-8c3c-677b6ceb136e",
   "metadata": {
    "tags": []
   },
   "outputs": [],
   "source": [
    "norm_male = scipy.stats.kstest(df['NicotineDepnd'][df['Gender']==1],'norm')\n",
    "norm_female = scipy.stats.kstest(df['NicotineDepnd'][df['Gender']==0],'norm')"
   ]
  },
  {
   "cell_type": "code",
   "execution_count": 6,
   "id": "18d5ad5c-2280-4580-a523-296c8ea0865f",
   "metadata": {
    "tags": []
   },
   "outputs": [
    {
     "name": "stdout",
     "output_type": "stream",
     "text": [
      "Normality for Male :  k:  0.9189974408673548  p-value:  2.8507509509630243e-225 \n",
      "Normality for Female :  k:  0.9298565031229108  p-value:  6.380873046981222e-244\n"
     ]
    }
   ],
   "source": [
    "print(\"Normality for Male : \", 'k: ', norm_male[0], ' p-value: ', norm_male[1],\n",
    "      \"\\nNormality for Female : \", 'k: ', norm_female[0], ' p-value: ', norm_female[1])"
   ]
  },
  {
   "cell_type": "markdown",
   "id": "2bc9e65f-71ee-4832-812b-db749ac3d43e",
   "metadata": {
    "tags": []
   },
   "source": [
    "<h4> This proves that our data is <b>not </b> normally distributed <h/4>"
   ]
  },
  {
   "cell_type": "markdown",
   "id": "d27a1281-38e3-46f2-ac32-52b1e7520b28",
   "metadata": {
    "tags": []
   },
   "source": [
    "<h3> Levene test for variance </h3>"
   ]
  },
  {
   "cell_type": "code",
   "execution_count": 7,
   "id": "8943e817-f409-4837-8de0-0c8a56bbf39c",
   "metadata": {
    "tags": []
   },
   "outputs": [
    {
     "data": {
      "text/plain": [
       "LeveneResult(statistic=0.010031018132884132, pvalue=0.920269659203623)"
      ]
     },
     "execution_count": 7,
     "metadata": {},
     "output_type": "execute_result"
    }
   ],
   "source": [
    "scipy.stats.levene(df['NicotineDepnd'][df['Gender']==1],df['NicotineDepnd'][df['Gender']==0])"
   ]
  },
  {
   "cell_type": "markdown",
   "id": "5ea6f496-5270-4533-b3e5-8af44a5b81ad",
   "metadata": {},
   "source": [
    "<h4> The smaller p-value>0.05 indicates that both of this distribution has equal variance </h4>"
   ]
  },
  {
   "cell_type": "markdown",
   "id": "2d310ad7-d3ad-4a25-a771-e396a27e15c2",
   "metadata": {},
   "source": [
    "<h3> Mann-Whitney U Test for comparison of Mean </h3>"
   ]
  },
  {
   "cell_type": "code",
   "execution_count": 8,
   "id": "016e9f1d-61a6-4091-87a6-2ee1ff662d84",
   "metadata": {},
   "outputs": [
    {
     "name": "stdout",
     "output_type": "stream",
     "text": [
      " U statistics value :  21569.5 \n",
      " p-value :  0.8883707212804095 \n",
      " effect size :  0.49623843923986566\n"
     ]
    }
   ],
   "source": [
    "U,p_value = scipy.stats.mannwhitneyu(df['NicotineDepnd'][df['Gender']==1],df['NicotineDepnd'][df['Gender']==0])\n",
    "\n",
    "effect_size = U/(male_n*female_n)\n",
    "\n",
    "print(' U statistics value : ', U ,'\\n p-value : ', p_value, '\\n effect size : ', effect_size)"
   ]
  },
  {
   "cell_type": "markdown",
   "id": "5c9bfa7a-c293-458c-a0e5-f5c91dc345b2",
   "metadata": {
    "tags": []
   },
   "source": [
    "<h3> Results </h3>\n",
    "The Mann-Whitney U test was conducted to compare the scores of two groups: 206 males and 211 females. The Mann-Whitney U statistic was calculated as 21569.5, and the p-value obtained was 0.888. The test was two-tailed, and the significance level was set at 0.05. The results indicated that there was no statistically significant difference between the male and female groups <i>(U = 21569.5, p = 0.888)</i>.\n",
    "\n",
    "The calculated effect size (CL) is approximately 0.496, which indicates a medium-sized effect. This suggests that there is a roughly 49.6% chance that a randomly selected score from one group is greater than a randomly selected score from the other group"
   ]
  },
  {
   "cell_type": "code",
   "execution_count": null,
   "id": "a7fe7ed1-d6b2-4595-aad5-a82221932e5d",
   "metadata": {},
   "outputs": [],
   "source": []
  },
  {
   "cell_type": "markdown",
   "id": "9fcf7324-2852-48fd-97e3-8822d4cbd68d",
   "metadata": {
    "tags": []
   },
   "source": [
    "<h3> Analysis of Variance </h3>\n",
    "\n",
    "We will conduct an ANOVA test to determine if there is any difference in nicotine dependency regarding the occupation - School, University and Job"
   ]
  },
  {
   "cell_type": "markdown",
   "id": "719cfce6-50e5-4816-a128-fc07fbbeb1d0",
   "metadata": {
    "tags": []
   },
   "source": [
    "<h3> Normality Check by k-s test </h3>"
   ]
  },
  {
   "cell_type": "code",
   "execution_count": 9,
   "id": "ebdf093a-67bf-47ee-be2f-9ae9b1bbc6ad",
   "metadata": {
    "tags": []
   },
   "outputs": [],
   "source": [
    "norm_school = scipy.stats.kstest(df['NicotineDepnd'][df['Occu']==1],'norm')\n",
    "norm_university = scipy.stats.kstest(df['NicotineDepnd'][df['Occu']==2],'norm')\n",
    "norm_job = scipy.stats.kstest(df['NicotineDepnd'][df['Occu']==3],'norm')"
   ]
  },
  {
   "cell_type": "code",
   "execution_count": 10,
   "id": "b1e8e051-5d38-4cfd-bd2e-69aee3e48eca",
   "metadata": {
    "tags": []
   },
   "outputs": [
    {
     "name": "stdout",
     "output_type": "stream",
     "text": [
      "normality results : \n",
      " School :  KstestResult(statistic=0.8413447460685429, pvalue=1.6337562393125341e-105, statistic_location=1, statistic_sign=-1) \n",
      "University :  KstestResult(statistic=0.9772498680518208, pvalue=5.993302728364571e-242, statistic_location=2, statistic_sign=-1) \n",
      "Job :  KstestResult(statistic=0.9999999990134123, pvalue=0.0, statistic_location=6, statistic_sign=-1)\n"
     ]
    }
   ],
   "source": [
    "print(\"normality results : \\n\",\n",
    "      \"School : \", norm_school,\n",
    "      \"\\nUniversity : \", norm_university,\n",
    "      \"\\nJob : \", norm_job\n",
    "      ,\n",
    "     \n",
    "     )"
   ]
  },
  {
   "cell_type": "markdown",
   "id": "220831ef-8dc0-4947-98ff-4a96ae8258ee",
   "metadata": {},
   "source": [
    "<h4> The normality is <b>not</b> confirmed for the groups </h4>\n",
    "\n",
    "<h5> In This case we will use the non-parametric counter part of ANOVA : Kurskal-Wallis Test </h5>"
   ]
  },
  {
   "cell_type": "code",
   "execution_count": 11,
   "id": "904ecf59-89da-4380-9df6-314c871f5297",
   "metadata": {
    "tags": []
   },
   "outputs": [
    {
     "name": "stdout",
     "output_type": "stream",
     "text": [
      "Kruskal-Wallis Test Statistic: 344.43549988380045\n",
      "P-value: 1.6098355527865053e-75\n",
      "Reject the null hypothesis: There are significant differences between groups.\n"
     ]
    }
   ],
   "source": [
    "\n",
    "# Defining data for each group\n",
    "school = df['NicotineDepnd'][df['Occu']==1]\n",
    "university = df['NicotineDepnd'][df['Occu']==2]\n",
    "job = df['NicotineDepnd'][df['Occu']==3]\n",
    "\n",
    "# Perform the Kruskal-Wallis test\n",
    "statistic, p_value = scipy.stats.kruskal(school,university,job)\n",
    "\n",
    "# Display the results\n",
    "print(\"Kruskal-Wallis Test Statistic:\", statistic)\n",
    "print(\"P-value:\", p_value)\n",
    "\n",
    "# Interpret the results\n",
    "alpha = 0.05  # Set your significance level\n",
    "if p_value < alpha:\n",
    "    print(\"Reject the null hypothesis: There are significant differences between groups.\")\n",
    "else:\n",
    "    print(\"Fail to reject the null hypothesis: There are no significant differences between groups.\")\n"
   ]
  },
  {
   "cell_type": "markdown",
   "id": "0d6da92d-1ad3-4b3d-acfc-5f22b3541101",
   "metadata": {
    "tags": []
   },
   "source": [
    "<h3> Conducting Post-hoc test </h3>"
   ]
  },
  {
   "cell_type": "code",
   "execution_count": 12,
   "id": "cec4260d-bf7d-4706-9783-95a864826b08",
   "metadata": {
    "tags": []
   },
   "outputs": [
    {
     "name": "stdout",
     "output_type": "stream",
     "text": [
      "\n",
      "Dunn's Post-Hoc Test:\n",
      "              1             2             3\n",
      "1  1.000000e+00  1.674067e-10  1.286019e-73\n",
      "2  1.674067e-10  1.000000e+00  3.736083e-34\n",
      "3  1.286019e-73  3.736083e-34  1.000000e+00\n"
     ]
    }
   ],
   "source": [
    "# Perform Dunn's post-hoc test\n",
    "posthoc_dunn = sp.posthoc_dunn(df, val_col='NicotineDepnd', group_col='Occu', p_adjust='holm')\n",
    "\n",
    "# Print the post-hoc test results\n",
    "print(\"\\nDunn's Post-Hoc Test:\")\n",
    "print(posthoc_dunn)"
   ]
  },
  {
   "cell_type": "markdown",
   "id": "568f5940-a61f-45a3-b0eb-b0aa2c6a57fb",
   "metadata": {},
   "source": [
    "<h4> This Dunn's Post Hoc Test suggest that there is a significant differences among the groups </h4>\n",
    "\n",
    "We further investigate the mean nicotine dependency among the groups\n"
   ]
  },
  {
   "cell_type": "code",
   "execution_count": 13,
   "id": "ac910b2c-116f-4ba2-b318-13be35754bf5",
   "metadata": {
    "tags": []
   },
   "outputs": [
    {
     "data": {
      "text/html": [
       "<div>\n",
       "<style scoped>\n",
       "    .dataframe tbody tr th:only-of-type {\n",
       "        vertical-align: middle;\n",
       "    }\n",
       "\n",
       "    .dataframe tbody tr th {\n",
       "        vertical-align: top;\n",
       "    }\n",
       "\n",
       "    .dataframe thead th {\n",
       "        text-align: right;\n",
       "    }\n",
       "</style>\n",
       "<table border=\"1\" class=\"dataframe\">\n",
       "  <thead>\n",
       "    <tr style=\"text-align: right;\">\n",
       "      <th></th>\n",
       "      <th>count</th>\n",
       "      <th>mean</th>\n",
       "      <th>std</th>\n",
       "      <th>min</th>\n",
       "      <th>25%</th>\n",
       "      <th>50%</th>\n",
       "      <th>75%</th>\n",
       "      <th>max</th>\n",
       "    </tr>\n",
       "    <tr>\n",
       "      <th>Occu</th>\n",
       "      <th></th>\n",
       "      <th></th>\n",
       "      <th></th>\n",
       "      <th></th>\n",
       "      <th></th>\n",
       "      <th></th>\n",
       "      <th></th>\n",
       "      <th></th>\n",
       "    </tr>\n",
       "  </thead>\n",
       "  <tbody>\n",
       "    <tr>\n",
       "      <th>1</th>\n",
       "      <td>132.0</td>\n",
       "      <td>1.833333</td>\n",
       "      <td>0.374098</td>\n",
       "      <td>1.0</td>\n",
       "      <td>2.0</td>\n",
       "      <td>2.0</td>\n",
       "      <td>2.0</td>\n",
       "      <td>2.0</td>\n",
       "    </tr>\n",
       "    <tr>\n",
       "      <th>2</th>\n",
       "      <td>147.0</td>\n",
       "      <td>3.836735</td>\n",
       "      <td>1.817121</td>\n",
       "      <td>2.0</td>\n",
       "      <td>2.0</td>\n",
       "      <td>4.0</td>\n",
       "      <td>6.0</td>\n",
       "      <td>6.0</td>\n",
       "    </tr>\n",
       "    <tr>\n",
       "      <th>3</th>\n",
       "      <td>138.0</td>\n",
       "      <td>7.884058</td>\n",
       "      <td>0.527665</td>\n",
       "      <td>6.0</td>\n",
       "      <td>8.0</td>\n",
       "      <td>8.0</td>\n",
       "      <td>8.0</td>\n",
       "      <td>10.0</td>\n",
       "    </tr>\n",
       "  </tbody>\n",
       "</table>\n",
       "</div>"
      ],
      "text/plain": [
       "      count      mean       std  min  25%  50%  75%   max\n",
       "Occu                                                     \n",
       "1     132.0  1.833333  0.374098  1.0  2.0  2.0  2.0   2.0\n",
       "2     147.0  3.836735  1.817121  2.0  2.0  4.0  6.0   6.0\n",
       "3     138.0  7.884058  0.527665  6.0  8.0  8.0  8.0  10.0"
      ]
     },
     "execution_count": 13,
     "metadata": {},
     "output_type": "execute_result"
    }
   ],
   "source": [
    "df.groupby('Occu')['NicotineDepnd'].describe()"
   ]
  },
  {
   "cell_type": "markdown",
   "id": "3e891d4b-89ed-4a40-9db7-8f945057132c",
   "metadata": {},
   "source": [
    "Result shows that job holders have the highest nicotine dependency following by the university students and the school attenders have the least nicotine dependency."
   ]
  },
  {
   "cell_type": "markdown",
   "id": "a5cb4fa9-70a5-4cba-a947-53f1367a3ffc",
   "metadata": {
    "tags": []
   },
   "source": [
    "<h2> Regression Analysis </h2>\n",
    "\n",
    "1. linearity check\n",
    "2. Correalation test \n",
    "3. Regression analysis"
   ]
  },
  {
   "cell_type": "code",
   "execution_count": 14,
   "id": "10c1706a-6d04-40db-b088-24373c6b0f0f",
   "metadata": {
    "tags": []
   },
   "outputs": [
    {
     "data": {
      "text/plain": [
       "Text(0.5, 1.0, 'Scatter Plot Example')"
      ]
     },
     "execution_count": 14,
     "metadata": {},
     "output_type": "execute_result"
    },
    {
     "data": {
      "image/png": "[encoded data removed]",
      "text/plain": [
       "<Figure size 640x480 with 1 Axes>"
      ]
     },
     "metadata": {},
     "output_type": "display_data"
    }
   ],
   "source": [
    "sns.scatterplot(x = df['NicotineDepnd'], y = df['EmoRegu'])\n",
    "\n",
    "plt.xlabel('Nicotine Dependency')\n",
    "plt.ylabel('Emotional Regulation')\n",
    "plt.title('Scatter Plot Example')"
   ]
  },
  {
   "cell_type": "markdown",
   "id": "78d9f7d5-6391-42f2-b504-429d21e8ca73",
   "metadata": {},
   "source": [
    "<h2> Plotted mean value of Emotional Regulation For each Nictoine Dependency Score </h2>"
   ]
  },
  {
   "cell_type": "code",
   "execution_count": 15,
   "id": "5efe9179-dda5-4b7a-b32c-7f8cbcd43d63",
   "metadata": {
    "tags": []
   },
   "outputs": [
    {
     "data": {
      "text/plain": [
       "Text(0.5, 1.0, 'Scatter Plot Example')"
      ]
     },
     "execution_count": 15,
     "metadata": {},
     "output_type": "execute_result"
    },
    {
     "data": {
      "image/png": "[encoded data removed]",
      "text/plain": [
       "<Figure size 640x480 with 1 Axes>"
      ]
     },
     "metadata": {},
     "output_type": "display_data"
    }
   ],
   "source": [
    "arr = df.groupby('NicotineDepnd')['EmoRegu'].describe()['mean']\n",
    "\n",
    "sns.scatterplot(arr)\n",
    "plt.plot(arr, color = 'Grey')\n",
    "plt.xlabel('Nicotine Dependency')\n",
    "plt.ylabel('Emotional Regulation')\n",
    "plt.title('Scatter Plot Example')"
   ]
  },
  {
   "cell_type": "markdown",
   "id": "023b78b5-5501-456d-b5c1-a28d89d01003",
   "metadata": {},
   "source": [
    "<h4> This plots suggests that there is a linearity between Nicotine Dependency and Emotional Rgeulation </h4>"
   ]
  },
  {
   "cell_type": "code",
   "execution_count": 16,
   "id": "45f809af-4755-4cb7-a81f-fa84c269bb2c",
   "metadata": {
    "tags": []
   },
   "outputs": [
    {
     "name": "stdout",
     "output_type": "stream",
     "text": [
      "Pearson Correlation Coef, r =   -0.5561150679845044 \n",
      " p-value =  3.1802174088835934e-35\n"
     ]
    }
   ],
   "source": [
    "r,p_value = scipy.stats.pearsonr(df['EmoRegu'],df['NicotineDepnd'])\n",
    "print(\n",
    "    'Pearson Correlation Coef, r =  ', r,'\\n',\n",
    "    'p-value = ', p_value)"
   ]
  },
  {
   "cell_type": "code",
   "execution_count": 17,
   "id": "b82e4d90-cd7f-410e-9815-313d8e47666a",
   "metadata": {
    "tags": []
   },
   "outputs": [
    {
     "name": "stdout",
     "output_type": "stream",
     "text": [
      "Slope (m): -0.10367133427240782\n",
      "Intercept (b): 7.66901209227421\n",
      "R-squared (R^2): 0.30926396883941043\n",
      "P-value: 3.1802174088830214e-35\n",
      "Standard Error: 0.007605469563134634\n"
     ]
    },
    {
     "data": {
      "image/png": "[encoded data removed]",
      "text/plain": [
       "<Figure size 640x480 with 1 Axes>"
      ]
     },
     "metadata": {},
     "output_type": "display_data"
    }
   ],
   "source": [
    "x = df['EmoRegu']\n",
    "y = df['NicotineDepnd']\n",
    "\n",
    "# Perform linear regression\n",
    "slope, intercept, r_value, p_value, std_err = scipy.stats.linregress(x, y)\n",
    "\n",
    "# Print regression results\n",
    "print(f\"Slope (m): {slope}\")\n",
    "print(f\"Intercept (b): {intercept}\")\n",
    "print(f\"R-squared (R^2): {r_value**2}\")\n",
    "print(f\"P-value: {p_value}\")\n",
    "print(f\"Standard Error: {std_err}\")\n",
    "\n",
    "# Create a scatterplot of the data and the regression line\n",
    "plt.scatter(x, y, label='Data Points')\n",
    "plt.plot(x, intercept + slope * x, color='#aa217c', label='Linear Regression Line')\n",
    "plt.xlabel('X-Axis')\n",
    "plt.ylabel('Y-Axis')\n",
    "plt.legend()\n",
    "plt.title('Linear Regression Example')\n",
    "plt.show()"
   ]
  },
  {
   "cell_type": "markdown",
   "id": "442a9a24-baa5-4e00-aad3-c542858127ea",
   "metadata": {
    "tags": []
   },
   "source": [
    "<h2> Result of Regression Analysis </h2>\n",
    "\n",
    "In a linear regression analysis, Nicotine Dependency was regressed on Emotional Regulation, resulting in the equation <b><i>Nicotine Dependency = 8.02 - 0.12 * Emotional Regulation</i></b>. This model accounted for <b>33.51%</b> of the variance in Nicotine Dependency (R² = 0.34). The intercept (b) was 8.02 (p < 0.001), indicating Nicotine Dependency's estimated score when Emotional Regulation is zero. A significant negative relationship between Emotional Regulation and Nicotine Dependency (β = -0.12, p < 0.001) emerged, indicating that for each unit increase in Emotional Regulation, Nicotine Dependency decreased by 0.12 units. This analysis highlights Emotional Regulation's predictive role. With an R-squared value of 0.34, Emotional Regulation explains about 33.51% of Nicotine Dependency's variability"
   ]
  },
  {
   "cell_type": "code",
   "execution_count": null,
   "id": "69c98def-e202-4125-a698-9624d257c360",
   "metadata": {},
   "outputs": [],
   "source": []
  },
  {
   "cell_type": "code",
   "execution_count": null,
   "id": "89ea516e-5263-408c-8937-6f8678e9ee3a",
   "metadata": {},
   "outputs": [],
   "source": []
  }
 ],
 "metadata": {
  "kernelspec": {
   "display_name": "Python 3 (ipykernel)",
   "language": "python",
   "name": "python3"
  },
  "language_info": {
   "codemirror_mode": {
    "name": "ipython",
    "version": 3
   },
   "file_extension": ".py",
   "mimetype": "text/x-python",
   "name": "python",
   "nbconvert_exporter": "python",
   "pygments_lexer": "ipython3",
   "version": "3.11.2"
  }
 },
 "nbformat": 4,
 "nbformat_minor": 5
}

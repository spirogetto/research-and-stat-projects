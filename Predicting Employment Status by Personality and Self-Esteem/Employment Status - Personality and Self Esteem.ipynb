{
 "cells": [
  {
   "cell_type": "markdown",
   "id": "4406ca02-df94-4f46-9de9-6c442f6ad32d",
   "metadata": {},
   "source": [
    "<h1> Predicting Employment Status by Self Esteem and Personality </h1>\n",
    "\n",
    "> We intend to employ logistic regression model\n",
    "\n",
    "<h2> Variables </h2>\n",
    "\n",
    "1. Slef Esteem : Rosenberg Self Esteem Scale\n",
    "2. Personality : Big Five Personality "
   ]
  },
  {
   "cell_type": "code",
   "execution_count": 14,
   "id": "8e580c4f-8d04-4b98-8d80-2063a4bc6944",
   "metadata": {
    "tags": []
   },
   "outputs": [],
   "source": [
    "#Importing neccessary libraries\n",
    "import gspread\n",
    "import pandas as pd\n",
    "import numpy as np\n",
    "import matplotlib.pyplot as plt\n",
    "import seaborn as sns\n",
    "import sklearn\n",
    "from sklearn.ensemble import RandomForestRegressor as reg\n",
    "from sklearn.model_selection import train_test_split\n",
    "from sklearn.linear_model import LogisticRegression\n",
    "from sklearn.metrics import accuracy_score, classification_report, confusion_matrix\n",
    "from sklearn.model_selection import GridSearchCV\n",
    "\n",
    "\n",
    "df = pd.read_csv('logistic_Reg.csv')"
   ]
  },
  {
   "cell_type": "code",
   "execution_count": 15,
   "id": "90cbf86b-7f12-4ba8-aa48-f304ba820699",
   "metadata": {
    "tags": []
   },
   "outputs": [
    {
     "data": {
      "text/plain": [
       "(67, 7)"
      ]
     },
     "execution_count": 15,
     "metadata": {},
     "output_type": "execute_result"
    }
   ],
   "source": [
    "df.shape"
   ]
  },
  {
   "cell_type": "markdown",
   "id": "5eb89a35-bb32-480f-a592-4e3b8abf0aa1",
   "metadata": {},
   "source": [
    "<b> Training and testing data set <b>"
   ]
  },
  {
   "cell_type": "code",
   "execution_count": 16,
   "id": "5e505854-0a96-40dd-8d0e-f2e44eab3193",
   "metadata": {
    "tags": []
   },
   "outputs": [],
   "source": [
    "X = df.drop('Empl', axis = 1)\n",
    "y = df['Empl']"
   ]
  },
  {
   "cell_type": "code",
   "execution_count": 17,
   "id": "875abc15-634b-4252-85bd-9adcaa52a68d",
   "metadata": {
    "tags": []
   },
   "outputs": [],
   "source": [
    "X_train, X_test, y_train, y_test = train_test_split(X, y, test_size=0.20, random_state=42)"
   ]
  },
  {
   "cell_type": "markdown",
   "id": "fa88b788-1752-4e18-a805-0091c7c61bc4",
   "metadata": {},
   "source": [
    "<b> Model declaration <b>"
   ]
  },
  {
   "cell_type": "code",
   "execution_count": 18,
   "id": "ebb556d6-e85e-4e31-b39b-2828bfea6a74",
   "metadata": {
    "tags": []
   },
   "outputs": [
    {
     "name": "stdout",
     "output_type": "stream",
     "text": [
      "Accuracy: 0.9285714285714286\n",
      "              precision    recall  f1-score   support\n",
      "\n",
      "           0       0.86      1.00      0.92         6\n",
      "           1       1.00      0.88      0.93         8\n",
      "\n",
      "    accuracy                           0.93        14\n",
      "   macro avg       0.93      0.94      0.93        14\n",
      "weighted avg       0.94      0.93      0.93        14\n",
      "\n",
      "Coefficients :   [[ 0.18700348  0.30388798  0.49201739  1.14810849 -0.46814533  0.41847319]] \n",
      "intercepts :  [-52.79911079]\n"
     ]
    }
   ],
   "source": [
    "model = LogisticRegression()\n",
    "model.fit(X_train, y_train)\n",
    "y_pred = model.predict(X_test)\n",
    "accuracy = accuracy_score(y_test, y_pred)\n",
    "report = classification_report(y_test, y_pred)\n",
    "confusion = confusion_matrix(y_test, y_pred)\n",
    "\n",
    "print(f\"Accuracy: {accuracy}\")\n",
    "print(report)\n",
    "print('Coefficients :  ', model.coef_, \n",
    "      '\\nintercepts : ', model.intercept_)\n"
   ]
  },
  {
   "cell_type": "code",
   "execution_count": 19,
   "id": "906f181c-228b-410e-8e0f-148ec97cf7eb",
   "metadata": {
    "tags": []
   },
   "outputs": [],
   "source": [
    "\n",
    "param_grid = {'C': [0.001, 0.01, 0.1, 1, 10, 100]}\n",
    "grid_search = GridSearchCV(LogisticRegression(), param_grid, cv=5)\n",
    "grid_search.fit(X_train, y_train)\n",
    "\n",
    "best_params = grid_search.best_params_\n"
   ]
  },
  {
   "cell_type": "markdown",
   "id": "c0239962-836c-4381-9049-e26a27d32af0",
   "metadata": {},
   "source": [
    "## Logistic Regression Model Summary\n",
    "\n",
    "- **Model Accuracy:** 92.86%\n",
    "\n",
    "### Precision and Recall:\n",
    "\n",
    "#### Class 0 (Non-Employment):\n",
    "- Precision: 86%\n",
    "- Recall: 100%\n",
    "\n",
    "#### Class 1 (Employment):\n",
    "- Precision: 100%\n",
    "- Recall: 88%\n",
    "\n",
    "- **F1-Score:**\n",
    "  - Weighted Average F1-Score: 0.93\n",
    "\n",
    "### Model Coefficients:\n",
    "\n",
    "- Self-Esteem Coefficient: 0.1870\n",
    "- Agreeableness Coefficient: 0.4920\n",
    "- Conscientiousness Coefficient: 1.1481\n",
    "- Extroversion Coefficient: 0.3039\n",
    "- Neuroticism Coefficient: -0.4681\n",
    "- Openness to Experience Coefficient: 0.4185\n",
    "\n",
    "- **Intercept:** -52.7991\n",
    "\n",
    "## Interpretation:\n",
    "\n",
    "- The logistic regression model achieved an accuracy of 92.86%, indicating its ability to correctly classify individuals' employment status based on the provided features.\n",
    "\n",
    "- For non-employment (Class 0), the model has a precision of 86% and a recall of 100%. This means that when the model predicts an individual is not employed, it is correct 86% of the time, and it correctly identifies all non-employed individuals.\n",
    "\n",
    "- For employment (Class 1), the model has a precision of 100% and a recall of 88%. When the model predicts an individual is employed, it is correct 100% of the time, and it correctly identifies 88% of the employed individuals.\n",
    "\n",
    "- The weighted average F1-score is 0.93, providing a balanced measure of the model's performance.\n",
    "\n",
    "- The coefficients of the features indicate their impact on the log-odds of the positive class (employment). Specifically:\n",
    "   - Higher Self-Esteem, Agreeableness, Extroversion, and Openness to Experience increase the likelihood of employment.\n",
    "   - Higher Conscientiousness has the strongest positive impact on employment.\n",
    "   - Higher Neuroticism decreases the likelihood of employment.\n",
    "\n",
    "- The intercept term (-52.7991) represents the log-odds of employment when all features are at their baseline values (zero).\n",
    "\n",
    "These results suggest that the model is effective at predicting employment status based on personality traits and that certain traits, such as Conscientiousness, have a strong positive influence on employment likelihood, while Neuroticism has a negative influence.\n",
    "\n"
   ]
  }
 ],
 "metadata": {
  "kernelspec": {
   "display_name": "Python 3 (ipykernel)",
   "language": "python",
   "name": "python3"
  },
  "language_info": {
   "codemirror_mode": {
    "name": "ipython",
    "version": 3
   },
   "file_extension": ".py",
   "mimetype": "text/x-python",
   "name": "python",
   "nbconvert_exporter": "python",
   "pygments_lexer": "ipython3",
   "version": "3.11.2"
  }
 },
 "nbformat": 4,
 "nbformat_minor": 5
}

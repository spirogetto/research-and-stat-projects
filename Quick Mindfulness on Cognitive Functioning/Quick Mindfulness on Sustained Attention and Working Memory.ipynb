{
 "cells": [
  {
   "cell_type": "markdown",
   "id": "9c643477-fd8e-4b92-a688-b7251a29ed1a",
   "metadata": {},
   "source": [
    "<h1> Effect of Quick Mindfulness on Cognitive Functioning </h1>\n",
    "\n",
    "<p>\n",
    "    In this experiment, we collected participants' sustained attention and working memory scores during the initial session. Subsequently, we divided them into two groups: an experimental group and a control group. The experimental group engaged in a 10-minute quick mindfulness exercise, while the control group did not receive any treatment but instead waited for 10 minutes until the next session occurred. During the subsequent session, we once again assessed the sustained attention and working memory scores of all participants to determine if the quick mindfulness exercise have any effects.\n",
    "\n",
    "</p>\n",
    "\n",
    "<b> Hypotheses </b>\n",
    "\n",
    "1. Sustained Attention scores of the experimental group will enhance in later session\n",
    "2. Working Memory scores of the experimental group will enhance in later session\n",
    "\n",
    "<b> Data Analysis </b>\n",
    "\n",
    "1. We intend to use Repeated Measures ANOVA for Sustained Attention and Working Memory. If assumptions are confirmed.\n",
    "2. If assumptions are violated then sequence of Wilcoxon signed-rank test will be conducted."
   ]
  },
  {
   "cell_type": "code",
   "execution_count": 1,
   "id": "941074d2-ff1d-4fe0-9823-9539b589482f",
   "metadata": {
    "tags": []
   },
   "outputs": [],
   "source": [
    "import pandas as pd\n",
    "import numpy as np\n",
    "import statsmodels.api as sm\n",
    "from statsmodels.formula.api import ols\n",
    "from statsmodels.stats.anova import AnovaRM\n",
    "import pingouin as pg\n",
    "import scipy.stats as st\n",
    "import gspread"
   ]
  },
  {
   "cell_type": "markdown",
   "id": "ef1dc840-8679-4160-bc8c-50a8a1af6c26",
   "metadata": {},
   "source": [
    "> Data inserting </br>\n",
    "> SA stands for Sustained Attention</br>\n",
    "> WM stands for Working Memory\n",
    "> Time stands for the phase (pretest & posttest)\n",
    "> Group stands for the group (control & experimental)"
   ]
  },
  {
   "cell_type": "code",
   "execution_count": 6,
   "id": "b1e4bab6-16ce-4f74-8f09-f56393841f98",
   "metadata": {
    "tags": []
   },
   "outputs": [],
   "source": [
    "sh = gspread.service_account(filename=\"C:/Users/DELL/Desktop/Data Analysis Projects/iot-jupyter-lab-114b492fbed8.json\")\n",
    "sheet = sh.open(\"Q_P\")\n",
    "work_sheet = sheet.worksheet(\"SART_2_back_task\")\n",
    "df = pd.read_csv('SART_2_back_task.csv')"
   ]
  },
  {
   "cell_type": "markdown",
   "id": "6275f719-93de-4dcc-bfe5-28c094b536e3",
   "metadata": {
    "tags": []
   },
   "source": [
    "<h2> Normality </h2>\n",
    "\n",
    "> Here we used K-S test for testing the normality of our data"
   ]
  },
  {
   "cell_type": "code",
   "execution_count": 7,
   "id": "83d8da33-a034-43de-b5e5-2a884ad582b9",
   "metadata": {
    "tags": []
   },
   "outputs": [
    {
     "name": "stdout",
     "output_type": "stream",
     "text": [
      "norm_c_sa_pretest  -  k :  0.5844186937516695 , p-value :  6.6866756876742305e-74 \n",
      "\n",
      "norm_c_sa_posttest  -  k :  0.5844186937516695 , p-value :  6.6866756876742305e-74 \n",
      "\n",
      "norm_e_sa_pretest  -  k :  0.6236191730674514 , p-value :  2.170631954683758e-85 \n",
      "\n",
      "norm_e_sa_posttest  -  k :  0.6236191730674514 , p-value :  2.170631954683758e-85 \n",
      "\n",
      "norm_c_wm_pretest  -  k :  0.5810072106386759 , p-value :  5.903291651692851e-73 \n",
      "\n",
      "norm_c_wm_posttest  -  k :  0.5810072106386759 , p-value :  5.903291651692851e-73 \n",
      "\n",
      "norm_e_wm_pretest  -  k :  0.6236191730674514 , p-value :  2.170631954683758e-85 \n",
      "\n",
      "norm_e_wm_posttest  -  k :  0.6236191730674514 , p-value :  2.170631954683758e-85 \n",
      "\n"
     ]
    }
   ],
   "source": [
    "norm_l = list({\n",
    "'norm_c_sa_pretest' : st.kstest(df['SA'][[df['Time'] == 'pretest'] and df['group'] == 'control'], 'norm'),\n",
    "               \n",
    "'norm_c_sa_posttest' : st.kstest(df['SA'][[df['Time'] == 'posttest'] and df['group'] == 'control'], 'norm'),\n",
    "               \n",
    "'norm_e_sa_pretest' : st.kstest(df['SA'][[df['Time'] == 'pretest'] and df['group'] == 'experimental'], 'norm'),\n",
    "               \n",
    "'norm_e_sa_posttest' : st.kstest(df['SA'][[df['Time'] == 'posttest'] and df['group'] == 'experimental'], 'norm'),\n",
    "    \n",
    "'norm_c_wm_pretest' : st.kstest(df['WM'][[df['Time'] == 'pretest'] and df['group'] == 'control'], 'norm'),\n",
    "               \n",
    "'norm_c_wm_posttest' : st.kstest(df['WM'][[df['Time'] == 'posttest'] and df['group'] == 'control'], 'norm'),\n",
    "               \n",
    "'norm_e_wm_pretest' : st.kstest(df['WM'][[df['Time'] == 'pretest'] and df['group'] == 'experimental'], 'norm'),\n",
    "               \n",
    "'norm_e_wm_posttest' : st.kstest(df['WM'][[df['Time'] == 'posttest'] and df['group'] == 'experimental'], 'norm')\n",
    "              }.items())\n",
    "\n",
    "\n",
    "for i in range(len(norm_l)) :\n",
    "    print ( norm_l[i][0], \" -  k : \", norm_l[i][1][0], ', p-value : ', norm_l[i][1][1], '\\n')"
   ]
  },
  {
   "cell_type": "markdown",
   "id": "da7451fd-7e7c-4405-9723-cc5b5f814fd8",
   "metadata": {
    "tags": []
   },
   "source": [
    "<b> Normality of the data isn't confirmed </b>\n",
    "> As our data is in proportion, arcsine transformation can be helpful to acheive normality"
   ]
  },
  {
   "cell_type": "code",
   "execution_count": 8,
   "id": "d9c19c6a-cfce-4320-b49b-adf2ffbb98d8",
   "metadata": {
    "tags": []
   },
   "outputs": [],
   "source": [
    "df['arcSA'] = np.arcsin(df['SA'])\n",
    "df['arcWM'] = np.arcsin(df['WM'])"
   ]
  },
  {
   "cell_type": "code",
   "execution_count": 9,
   "id": "17edc64a-f679-4607-93b1-a2ea37bde81b",
   "metadata": {
    "tags": []
   },
   "outputs": [
    {
     "name": "stdout",
     "output_type": "stream",
     "text": [
      "norm_c_sa_pretest  -  k :  0.5844186937516695 , p-value :  6.6866756876742305e-74 \n",
      "\n",
      "norm_c_sa_posttest  -  k :  0.5844186937516695 , p-value :  6.6866756876742305e-74 \n",
      "\n",
      "norm_e_sa_pretest  -  k :  0.6236191730674514 , p-value :  2.170631954683758e-85 \n",
      "\n",
      "norm_e_sa_posttest  -  k :  0.6236191730674514 , p-value :  2.170631954683758e-85 \n",
      "\n",
      "norm_c_wm_pretest  -  k :  0.5810072106386759 , p-value :  5.903291651692851e-73 \n",
      "\n",
      "norm_c_wm_posttest  -  k :  0.5810072106386759 , p-value :  5.903291651692851e-73 \n",
      "\n",
      "norm_e_wm_pretest  -  k :  0.6236191730674514 , p-value :  2.170631954683758e-85 \n",
      "\n",
      "norm_e_wm_posttest  -  k :  0.6236191730674514 , p-value :  2.170631954683758e-85 \n",
      "\n"
     ]
    }
   ],
   "source": [
    "norm_l = list({\n",
    "'norm_c_sa_pretest' : st.kstest(df['SA'][[df['Time'] == 'pretest'] and df['group'] == 'control'], 'norm'),\n",
    "               \n",
    "'norm_c_sa_posttest' : st.kstest(df['SA'][[df['Time'] == 'posttest'] and df['group'] == 'control'], 'norm'),\n",
    "               \n",
    "'norm_e_sa_pretest' : st.kstest(df['SA'][[df['Time'] == 'pretest'] and df['group'] == 'experimental'], 'norm'),\n",
    "               \n",
    "'norm_e_sa_posttest' : st.kstest(df['SA'][[df['Time'] == 'posttest'] and df['group'] == 'experimental'], 'norm'),\n",
    "    \n",
    "'norm_c_wm_pretest' : st.kstest(df['WM'][[df['Time'] == 'pretest'] and df['group'] == 'control'], 'norm'),\n",
    "               \n",
    "'norm_c_wm_posttest' : st.kstest(df['WM'][[df['Time'] == 'posttest'] and df['group'] == 'control'], 'norm'),\n",
    "               \n",
    "'norm_e_wm_pretest' : st.kstest(df['WM'][[df['Time'] == 'pretest'] and df['group'] == 'experimental'], 'norm'),\n",
    "               \n",
    "'norm_e_wm_posttest' : st.kstest(df['WM'][[df['Time'] == 'posttest'] and df['group'] == 'experimental'], 'norm')\n",
    "              }.items())\n",
    "\n",
    "\n",
    "for i in range(len(norm_l)) :\n",
    "    print ( norm_l[i][0], \" -  k : \", norm_l[i][1][0], ', p-value : ', norm_l[i][1][1], '\\n')"
   ]
  },
  {
   "cell_type": "markdown",
   "id": "4bb2c415-3c99-4491-ab55-2884c86b26a1",
   "metadata": {},
   "source": [
    "<h3> Arcsine transformed data didn't confirmed normality either </h3>"
   ]
  },
  {
   "cell_type": "markdown",
   "id": "34629c30-1916-4eec-94bd-7d7c6c7bf902",
   "metadata": {},
   "source": [
    "<h2> Non Paracmetric Approach </h2>\n",
    "    As our data violated the assumptions. we intend to conduct a series of wilcoxon test to identify the diffrences of mean"
   ]
  },
  {
   "cell_type": "code",
   "execution_count": 10,
   "id": "ff2f88f7-4a3e-4331-884f-44a81a434faa",
   "metadata": {
    "tags": []
   },
   "outputs": [],
   "source": [
    "# Perform the Wilcoxon signed-rank test\n",
    "\n",
    "def wilcoxres(data1,data2):\n",
    "    statistic, p_value = st.wilcoxon(data1, data2)\n",
    "\n",
    "    # Output the results\n",
    "    print(f\"Wilcoxon Statistic: {statistic}\")\n",
    "    print(f\"P-value: {p_value}\")\n",
    "\n",
    "    # Interpret the results\n",
    "    alpha = 0.05  # Set your desired significance level\n",
    "    if p_value < alpha:\n",
    "        return \"Reject the null hypothesis. There is a significant difference between the samples.\"\n",
    "        \n",
    "    else:\n",
    "        return \"Fail to reject the null hypothesis. There is no significant difference between the samples.\""
   ]
  },
  {
   "cell_type": "code",
   "execution_count": 11,
   "id": "9b3eee4d-4835-420a-871c-631088887d53",
   "metadata": {
    "tags": []
   },
   "outputs": [
    {
     "name": "stdout",
     "output_type": "stream",
     "text": [
      "Wilcoxon Statistic: 1867.0\n",
      "P-value: 0.00016238563142671853\n"
     ]
    },
    {
     "data": {
      "text/plain": [
       "'Reject the null hypothesis. There is a significant difference between the samples.'"
      ]
     },
     "execution_count": 11,
     "metadata": {},
     "output_type": "execute_result"
    }
   ],
   "source": [
    "#Sustained Attention in Control Group\n",
    "wilcoxres(\n",
    "\n",
    "df['SA'][(df['Time']=='pretest') & (df['group'] =='control')],\n",
    "df['SA'][(df['Time']=='posttest') & (df['group'] =='control')]\n",
    ")"
   ]
  },
  {
   "cell_type": "code",
   "execution_count": 12,
   "id": "c7a524a7-2a59-4b38-96fb-50d86bd99b03",
   "metadata": {
    "tags": []
   },
   "outputs": [
    {
     "name": "stdout",
     "output_type": "stream",
     "text": [
      "Wilcoxon Statistic: 0.0\n",
      "P-value: 2.5625676925228196e-20\n"
     ]
    },
    {
     "data": {
      "text/plain": [
       "'Reject the null hypothesis. There is a significant difference between the samples.'"
      ]
     },
     "execution_count": 12,
     "metadata": {},
     "output_type": "execute_result"
    }
   ],
   "source": [
    "#Sustained Attention in Experimental Group\n",
    "wilcoxres(\n",
    "\n",
    "df['SA'][(df['Time']=='pretest') & (df['group'] =='experimental')],\n",
    "df['SA'][(df['Time']=='posttest') & (df['group'] =='experimental')]\n",
    ")"
   ]
  },
  {
   "cell_type": "code",
   "execution_count": 13,
   "id": "93a114dd-b47b-47ab-9731-3793f33985e2",
   "metadata": {
    "tags": []
   },
   "outputs": [
    {
     "name": "stdout",
     "output_type": "stream",
     "text": [
      "Wilcoxon Statistic: 2946.5\n",
      "P-value: 0.7519026284212349\n"
     ]
    },
    {
     "data": {
      "text/plain": [
       "'Fail to reject the null hypothesis. There is no significant difference between the samples.'"
      ]
     },
     "execution_count": 13,
     "metadata": {},
     "output_type": "execute_result"
    }
   ],
   "source": [
    "#Working Memory in Control Group\n",
    "wilcoxres(\n",
    "\n",
    "df['WM'][(df['Time']=='pretest') & (df['group'] =='control')],\n",
    "df['WM'][(df['Time']=='posttest') & (df['group'] =='control')]\n",
    ")"
   ]
  },
  {
   "cell_type": "code",
   "execution_count": 14,
   "id": "351c238e-c10c-4f26-a0d4-37a22e62e731",
   "metadata": {
    "tags": []
   },
   "outputs": [
    {
     "name": "stdout",
     "output_type": "stream",
     "text": [
      "Wilcoxon Statistic: 17.0\n",
      "P-value: 6.459597227398733e-20\n"
     ]
    },
    {
     "data": {
      "text/plain": [
       "'Reject the null hypothesis. There is a significant difference between the samples.'"
      ]
     },
     "execution_count": 14,
     "metadata": {},
     "output_type": "execute_result"
    }
   ],
   "source": [
    "#Working Memory in Experimental Group\n",
    "wilcoxres(\n",
    "\n",
    "df['WM'][(df['Time']=='pretest') & (df['group'] =='experimental')],\n",
    "df['WM'][(df['Time']=='posttest') & (df['group'] =='experimental')]\n",
    ")"
   ]
  },
  {
   "cell_type": "markdown",
   "id": "30460527-78ee-45b4-ba4a-0be8a6adf1a4",
   "metadata": {
    "tags": []
   },
   "source": [
    "<h2> Results </h2>\n",
    "\n",
    "# Analysis of Wilcoxon Rank Sum Test\n",
    "\n",
    "## Sustained Attention\n",
    "\n",
    "- In the Control group, there are significant differences between the pretest and posttest scores for Sustained Attention:\n",
    "  - **Wilcoxon Statistic:** 1867.0\n",
    "  - **P-value:** 0.0001624\n",
    "\n",
    "- In the Experimental group, significant differences between the pretest and posttest scores for Sustained Attention were observed:\n",
    "  - **Wilcoxon Statistic:** 0.0\n",
    "  - **P-value:** 2.5626e-20\n",
    "\n",
    "## Working Memory\n",
    "\n",
    "- In the Control group, there is no significant difference between the pretest and posttest scores for Working Memory:\n",
    "  - **Wilcoxon Statistic:** 2946.5\n",
    "  - **P-value:** 0.7519\n",
    "\n",
    "- In the Experimental group, significant differences between the pretest and posttest scores for Working Memory were found:\n",
    "  - **Wilcoxon Statistic:** 17.0\n",
    "  - **P-value:** 6.4596e-20\n"
   ]
  },
  {
   "cell_type": "code",
   "execution_count": 15,
   "id": "f22fc4d9-c328-4696-822d-d2c8cb08f755",
   "metadata": {
    "tags": []
   },
   "outputs": [
    {
     "data": {
      "text/html": [
       "<div>\n",
       "<style scoped>\n",
       "    .dataframe tbody tr th:only-of-type {\n",
       "        vertical-align: middle;\n",
       "    }\n",
       "\n",
       "    .dataframe tbody tr th {\n",
       "        vertical-align: top;\n",
       "    }\n",
       "\n",
       "    .dataframe thead th {\n",
       "        text-align: right;\n",
       "    }\n",
       "</style>\n",
       "<table border=\"1\" class=\"dataframe\">\n",
       "  <thead>\n",
       "    <tr style=\"text-align: right;\">\n",
       "      <th></th>\n",
       "      <th></th>\n",
       "      <th>SA</th>\n",
       "      <th>WM</th>\n",
       "    </tr>\n",
       "    <tr>\n",
       "      <th>group</th>\n",
       "      <th>Time</th>\n",
       "      <th></th>\n",
       "      <th></th>\n",
       "    </tr>\n",
       "  </thead>\n",
       "  <tbody>\n",
       "    <tr>\n",
       "      <th rowspan=\"2\" valign=\"top\">control</th>\n",
       "      <th>posttest</th>\n",
       "      <td>0.499027</td>\n",
       "      <td>0.477788</td>\n",
       "    </tr>\n",
       "    <tr>\n",
       "      <th>pretest</th>\n",
       "      <td>0.489381</td>\n",
       "      <td>0.481018</td>\n",
       "    </tr>\n",
       "    <tr>\n",
       "      <th rowspan=\"2\" valign=\"top\">experimental</th>\n",
       "      <th>posttest</th>\n",
       "      <td>0.745752</td>\n",
       "      <td>0.733628</td>\n",
       "    </tr>\n",
       "    <tr>\n",
       "      <th>pretest</th>\n",
       "      <td>0.498274</td>\n",
       "      <td>0.486991</td>\n",
       "    </tr>\n",
       "  </tbody>\n",
       "</table>\n",
       "</div>"
      ],
      "text/plain": [
       "                             SA        WM\n",
       "group        Time                        \n",
       "control      posttest  0.499027  0.477788\n",
       "             pretest   0.489381  0.481018\n",
       "experimental posttest  0.745752  0.733628\n",
       "             pretest   0.498274  0.486991"
      ]
     },
     "execution_count": 15,
     "metadata": {},
     "output_type": "execute_result"
    }
   ],
   "source": [
    "df.groupby(['group','Time'])[['SA','WM']].mean()"
   ]
  },
  {
   "cell_type": "markdown",
   "id": "9e1a5a71-a05d-4bcf-a1dd-e0a375917ff2",
   "metadata": {
    "tags": []
   },
   "source": [
    "Here, we examined the performance of two groups, the Control and Experimental groups, on measures of *Sustained Attention (SA) and Working Memory (WM)* at two different time points, pretest and posttest. For the Control group, the mean SA scores were approximately *0.489* at pretest and *0.499* at posttest, indicating a slight improvement. In contrast, the Experimental group demonstrated more substantial progress, with mean SA scores of approximately  *0.498* at pretest and a notable increase to about *0.746* at posttest. The Wilcoxon Test results for Sustained Attention in the Control group indicated significant differences between the pretest and posttest scores. However, the descriptive statistics underscore the more significant improvement observed in the Experimental group, providing strong support for our hypothesis that quick mindfulness interventions enhance Sustained Attention.\n",
    "\n",
    "Turning to Working Memory, the Control group displayed mean scores of roughly *0.481* at pretest and *0.478* at posttest, suggesting minimal change. Meanwhile, the Experimental group exhibited substantial improvement, with mean scores of about *0.487* at pretest and a considerable increase to around *0.734* at posttest. Both the descriptive statistics and the Wilcoxon Test results for Working Memory in the Experimental group align in showing a significant enhancement in scores following the quick mindfulness intervention."
   ]
  },
  {
   "cell_type": "code",
   "execution_count": null,
   "id": "4cae327c-6f40-4b7b-b568-e0b6719aede5",
   "metadata": {},
   "outputs": [],
   "source": []
  }
 ],
 "metadata": {
  "kernelspec": {
   "display_name": "Python 3 (ipykernel)",
   "language": "python",
   "name": "python3"
  },
  "language_info": {
   "codemirror_mode": {
    "name": "ipython",
    "version": 3
   },
   "file_extension": ".py",
   "mimetype": "text/x-python",
   "name": "python",
   "nbconvert_exporter": "python",
   "pygments_lexer": "ipython3",
   "version": "3.11.2"
  }
 },
 "nbformat": 4,
 "nbformat_minor": 5
}
